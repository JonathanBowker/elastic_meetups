{
 "cells": [
  {
   "cell_type": "markdown",
   "metadata": {},
   "source": [
    "# Configuring ES multi-lingual index with RLI\n",
    "Below we run through the following steps:\n",
    "1. Install RBL Plugin.\n",
    "2. Create an empty index.\n",
    "3. Add custom anlysis chains and dynamic template mapping that use RBL's tokenization and normailzation. \n",
    "4. Compare analysis of default and Rosette analysis.\n",
    "5. Add a handfull of records in various languages.\n",
    "6. View dynamically created fields. Note correct analyzers."
   ]
  },
  {
   "cell_type": "markdown",
   "metadata": {},
   "source": [
    "----\n",
    "### 1) Install RBL Plugin"
   ]
  },
  {
   "cell_type": "code",
   "execution_count": null,
   "metadata": {
    "collapsed": false
   },
   "outputs": [],
   "source": [
    "# Simple Plugin Installation\n",
    "# ./bin/plugin --install analysis-rbl-je --url file:///path/rbl-je-elasticsearch-1.0.0.zip\n",
    "\n",
    "# Add your license file\n",
    "# cp /path/rlp-license.xml plugins/analysis-rbl-je/rbl-je-7.12.1/licenses/ "
   ]
  },
  {
   "cell_type": "markdown",
   "metadata": {},
   "source": [
    "----\n",
    "### 2) Create an empty index"
   ]
  },
  {
   "cell_type": "code",
   "execution_count": null,
   "metadata": {
    "collapsed": false
   },
   "outputs": [],
   "source": [
    "# Global Settings for Elasticsearch\n",
    "es_host = \"_enter_your_elastic_hostname_here_\" #\"localhost\"\n",
    "es_port = \"9200\"\n",
    "index_name = \"language_analysis_demo\"\n",
    "document_type = \"customers\"\n",
    "\n",
    "# Intall the python binding for elastic search\n",
    "# pip install elasticsearch\n",
    "\n",
    "# Use the elasticsearch python client\n",
    "from elasticsearch import Elasticsearch\n",
    "import json\n",
    "\n",
    "# Create connection to es server\n",
    "es = Elasticsearch(host=es_host, port=es_port)"
   ]
  },
  {
   "cell_type": "code",
   "execution_count": null,
   "metadata": {
    "collapsed": false
   },
   "outputs": [],
   "source": [
    "# Uncomment the following line to delete existing index with this name. Ignores 404 IndexMissingException.\n",
    "print \"delete\", index_name, es.indices.delete(index=index_name, ignore=[404])\n",
    "\n",
    "# Create the index. Ignores 400 IndexAlreadyExistsException\n",
    "print \"create\", index_name, es.indices.create(index=index_name, ignore=[400])"
   ]
  },
  {
   "cell_type": "code",
   "execution_count": null,
   "metadata": {
    "collapsed": false
   },
   "outputs": [],
   "source": [
    "# Display the settings of the newly created index -- shouldn't be much here. \n",
    "settings = es.indices.get_settings(index=index_name)\n",
    "print json.dumps(settings, indent=2)"
   ]
  },
  {
   "cell_type": "code",
   "execution_count": null,
   "metadata": {
    "collapsed": false
   },
   "outputs": [],
   "source": [
    "# Display the mappings of the newly created index -- shouldn't be much here. \n",
    "mapping = es.indices.get_mapping(index=index_name)\n",
    "print json.dumps(mapping, indent=2)"
   ]
  },
  {
   "cell_type": "markdown",
   "metadata": {},
   "source": [
    "----\n",
    "### 3) Add custom anlysis chains that use RBL's tokenization and normailzation\n",
    " - Close the index to make edits\n",
    " - Add custom anlysis chains and dynamic template mapping that use RBL's tokenization and normailzation. \n",
    " - Add a document type with dynamic template mapping that automatically assoicates new fields with the correct anlysis chains bases on a 3 letter langaguge code suffix on field name.\n",
    " - Reopen the index and inspect the new settings."
   ]
  },
  {
   "cell_type": "code",
   "execution_count": null,
   "metadata": {
    "collapsed": false
   },
   "outputs": [],
   "source": [
    "# Close the index to make edits\n",
    "print \"close\", index_name, es.indices.close(index=index_name)"
   ]
  },
  {
   "cell_type": "code",
   "execution_count": null,
   "metadata": {
    "collapsed": false
   },
   "outputs": [],
   "source": [
    "# Define custom anlysis chains with RBL tokenizer and RBL token filter for JAPANESE, GERMAN, and ENGLISH\n",
    "# Note that there are additional options that can be set here. See section 4 of the RBL for Elasticserach guide.\n",
    "es.indices.put_settings(index=index_name, body={\n",
    "    \"analysis\": {\n",
    "        \"analyzer\": {\n",
    "            \"rbl_eng_analyzer\": {\n",
    "                \"filter\": [\"rbl_eng_filter\"],\n",
    "                \"tokenizer\": \"rbl_eng_tokenizer\",\n",
    "                \"type\": \"custom\"\n",
    "            },\n",
    "            \"rbl_deu_analyzer\": {\n",
    "                \"filter\": [\"rbl_deu_filter\"],\n",
    "                \"tokenizer\": \"rbl_deu_tokenizer\",\n",
    "                \"type\": \"custom\"\n",
    "            },                \n",
    "            \"rbl_jpn_analyzer\": {\n",
    "                \"filter\": [\"rbl_jpn_filter\"],\n",
    "                \"tokenizer\": \"rbl_jpn_tokenizer\",\n",
    "                \"type\": \"custom\"\n",
    "            }\n",
    "        },\n",
    "        \"filter\": {\n",
    "            \"rbl_eng_filter\": {\n",
    "                \"addLemmaTokens\": \"true\",\n",
    "                \"language\": \"eng\",\n",
    "                \"type\": \"rbl\"\n",
    "            },\n",
    "            \"rbl_deu_filter\": {\n",
    "                \"addLemmaTokens\": \"true\",\n",
    "                \"language\": \"deu\",\n",
    "                \"type\": \"rbl\"\n",
    "            },\n",
    "            \"rbl_jpn_filter\": {\n",
    "                \"addLemmaTokens\": \"true\",\n",
    "                \"language\": \"jpn\",\n",
    "                \"type\": \"rbl\"\n",
    "            }\n",
    "        },\n",
    "        \"tokenizer\": {\n",
    "            \"rbl_eng_tokenizer\": {\n",
    "                \"language\": \"eng\",\n",
    "                \"type\": \"rbl\"\n",
    "            },\n",
    "            \"rbl_deu_tokenizer\": {\n",
    "                \"language\": \"deu\",\n",
    "                \"type\": \"rbl\"\n",
    "            },                \n",
    "            \"rbl_jpn_tokenizer\": {\n",
    "                \"language\": \"jpn\",\n",
    "                \"type\": \"rbl\"\n",
    "            }\n",
    "        }\n",
    "    }\n",
    "})"
   ]
  },
  {
   "cell_type": "code",
   "execution_count": null,
   "metadata": {
    "collapsed": false
   },
   "outputs": [],
   "source": [
    "#Create dynamic template mapping so that feilds with language suffexes use the correct analyzers\n",
    "es.indices.put_mapping(index=index_name, doc_type=document_type, body={\n",
    "\"dynamic_templates\": [\n",
    "                { \"japanese_text\": {\n",
    "                      \"match\":              \"*_jpn\", \n",
    "                      \"match_mapping_type\": \"string\",\n",
    "                      \"mapping\": {\n",
    "                          \"type\":           \"string\",\n",
    "                          \"analyzer\":       \"rbl_jpn_analyzer\"\n",
    "                      }\n",
    "                }},\n",
    "                { \"german_text\": {\n",
    "                      \"match\":              \"*_deu\", \n",
    "                      \"match_mapping_type\": \"string\",\n",
    "                      \"mapping\": {\n",
    "                          \"type\":           \"string\",\n",
    "                          \"analyzer\":       \"deu_jpn_analyzer\"\n",
    "                      }\n",
    "                }},\n",
    "                { \"en\": {\n",
    "                      \"match\":              \"*_eng\", \n",
    "                      \"match_mapping_type\": \"string\",\n",
    "                      \"mapping\": {\n",
    "                          \"type\":           \"string\",\n",
    "                          \"analyzer\":       \"rbl_eng_analyzer\"\n",
    "                      }\n",
    "                }}\n",
    "            ]\n",
    "})"
   ]
  },
  {
   "cell_type": "code",
   "execution_count": null,
   "metadata": {
    "collapsed": false
   },
   "outputs": [],
   "source": [
    "# Open the index to make searchable\n",
    "print \"open\", index_name, es.indices.open(index=index_name)"
   ]
  },
  {
   "cell_type": "code",
   "execution_count": null,
   "metadata": {
    "collapsed": false
   },
   "outputs": [],
   "source": [
    "# Display the settings of the updated index\n",
    "settings = es.indices.get_settings(index=index_name)\n",
    "print json.dumps(settings, indent=2)"
   ]
  },
  {
   "cell_type": "code",
   "execution_count": null,
   "metadata": {
    "collapsed": false
   },
   "outputs": [],
   "source": [
    "#View the dynamically created mapping for the \n",
    "mapping = es.indices.get_mapping(index=index_name)\n",
    "print json.dumps(mapping, indent=2)"
   ]
  },
  {
   "cell_type": "markdown",
   "metadata": {},
   "source": [
    "----\n",
    "### 4) Compare analysis of default and Rosette analysis\n",
    " - Gernman decompounding example\n",
    " - Japanese Tokenization example"
   ]
  },
  {
   "cell_type": "code",
   "execution_count": null,
   "metadata": {
    "collapsed": false
   },
   "outputs": [],
   "source": [
    "#The Elasticsearch standard tokenizer\n",
    "tokens = es.indices.analyze(index=index_name,body=\"Migrationsforscher\",analyzer=\"standard\")\n",
    "print json.dumps(tokens, indent=2)"
   ]
  },
  {
   "cell_type": "code",
   "execution_count": null,
   "metadata": {
    "collapsed": false
   },
   "outputs": [],
   "source": [
    "#The Elasticsearch standard tokenizer\n",
    "tokens = es.indices.analyze(index=index_name,body=\"Migrationsforscher\",analyzer=\"rbl_deu_analyzer\")\n",
    "print json.dumps(tokens, indent=2)"
   ]
  },
  {
   "cell_type": "markdown",
   "metadata": {},
   "source": [
    "**Japanese Tokenization example**\n",
    " - 水泳の世界選手権第\n",
    " - 9 Characters\n",
    " - Translates to roughly \"The first swimming world championships\""
   ]
  },
  {
   "cell_type": "code",
   "execution_count": null,
   "metadata": {
    "collapsed": false
   },
   "outputs": [],
   "source": [
    "#The naive whitespace tokenizer \n",
    "tokens = es.indices.analyze(index=index_name,body=\"水泳の世界選手権第\",analyzer=\"whitespace\")\n",
    "print json.dumps(tokens, indent=2)"
   ]
  },
  {
   "cell_type": "code",
   "execution_count": null,
   "metadata": {
    "collapsed": false
   },
   "outputs": [],
   "source": [
    "#The Elasticsearch standard tokenizer\n",
    "tokens = es.indices.analyze(index=index_name,body=\"水泳の世界選手権第\",analyzer=\"standard\")\n",
    "print json.dumps(tokens, indent=2)"
   ]
  },
  {
   "cell_type": "code",
   "execution_count": null,
   "metadata": {
    "collapsed": false
   },
   "outputs": [],
   "source": [
    "#The Elasticsearch standard tokenizer\n",
    "tokens = es.indices.analyze(index=index_name,body=\"水泳の世界選手権第\",analyzer=\"rbl_jpn_analyzer\")\n",
    "print json.dumps(tokens, indent=2)"
   ]
  },
  {
   "cell_type": "markdown",
   "metadata": {},
   "source": [
    "----\n",
    "### 5) Add a handfull of records in various languages"
   ]
  },
  {
   "cell_type": "code",
   "execution_count": null,
   "metadata": {
    "collapsed": false
   },
   "outputs": [],
   "source": [
    "# Add 6 sample Japanese Documents to the Japanese field\n",
    "print \"add document\", index_name, es.index(index=index_name, doc_type=document_type, id=1, body={\"body_jpn\": \"T水泳の世界選手権第１１日は２７日、豪州・メルボルンで行われ、女子百メートル背泳ぎ決勝で中村礼子（東京ＳＣ）が１分０秒４０の日本人として大会初の銅メダルを獲得した。\"}) \n",
    "print \"add document\", index_name, es.index(index=index_name, doc_type=document_type, id=2, body={\"body_jpn\": \"優勝は５９秒４４の世界新をマークしたアメリカ人のナタリー・コーグリン。\"})\n",
    "print \"add document\", index_name, es.index(index=index_name, doc_type=document_type, id=3, body={\"body_jpn\": \"女子千五百メートル自由形決勝では、柴田亜衣（チームアリーナ）が１５分５８秒５５をマークし、２日続けて同種目の日本記録を更新し銅メダル。\"})\n",
    "print \"add document\", index_name, es.index(index=index_name, doc_type=document_type, id=4, body={\"body_jpn\": \"男子百メートル背泳ぎ決勝は、アーロン・ピアソル（米）が５２秒９８の世界新で優勝し、森田智己（セントラルスポーツ）は８位。\"})\n",
    "print \"add document\", index_name, es.index(index=index_name, doc_type=document_type, id=5, body={\"body_eng\": \"Record heat wave expect across most of Europe this week.\"})\n",
    "print \"add document\", index_name, es.index(index=index_name, doc_type=document_type, id=6, body={\"body_xxx\": \"鑑於薱朲蘱傢庭葰烠宬員啇懙笙椇婡旳繜嚴忣祺鮃等啇啝bú迻嘚權利ㄖㄅ承認，迺湜卋琾臫凷、㊣礒與龢鮃啇基礎，\"})"
   ]
  },
  {
   "cell_type": "code",
   "execution_count": null,
   "metadata": {
    "collapsed": false
   },
   "outputs": [],
   "source": [
    "# refresh to make the documents available for search\n",
    "print \"refresh\", index_name, es.indices.refresh(index=index_name)\n",
    "\n",
    "# and now we can count the documents\n",
    "print(es.count(index=index_name)['count'], 'documents in index')"
   ]
  },
  {
   "cell_type": "markdown",
   "metadata": {
    "collapsed": false
   },
   "source": [
    "----\n",
    "### 6) View the mapping again\n",
    " - Note the dynaically created fields"
   ]
  },
  {
   "cell_type": "code",
   "execution_count": null,
   "metadata": {
    "collapsed": false
   },
   "outputs": [],
   "source": [
    "# Display the settings of the updated index\n",
    "settings = es.indices.get_settings(index=index_name)\n",
    "print json.dumps(settings, indent=2)"
   ]
  },
  {
   "cell_type": "code",
   "execution_count": null,
   "metadata": {
    "collapsed": false
   },
   "outputs": [],
   "source": []
  }
 ],
 "metadata": {
  "git": {
   "suppress_outputs": true
  },
  "kernelspec": {
   "display_name": "Python 2",
   "language": "python",
   "name": "python2"
  },
  "language_info": {
   "codemirror_mode": {
    "name": "ipython",
    "version": 2
   },
   "file_extension": ".py",
   "mimetype": "text/x-python",
   "name": "python",
   "nbconvert_exporter": "python",
   "pygments_lexer": "ipython2",
   "version": "2.7.8"
  }
 },
 "nbformat": 4,
 "nbformat_minor": 0
}
