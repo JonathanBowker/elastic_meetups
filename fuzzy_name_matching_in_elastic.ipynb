{
 "cells": [
  {
   "cell_type": "markdown",
   "metadata": {},
   "source": [
    "# Fuzzy Name Matching in Elastic\n",
    "For Language Analysis\n",
    "1. Install RNI Plugin\n",
    "2. Create an new index\n",
    "3. Create an document_type with an RNI filed type\n",
    "4. Add a handfull of records \n",
    "5. Example Queries"
   ]
  },
  {
   "cell_type": "markdown",
   "metadata": {},
   "source": [
    "----\n",
    "### 1) Install RNI Plugin"
   ]
  },
  {
   "cell_type": "code",
   "execution_count": 2,
   "metadata": {
    "collapsed": false
   },
   "outputs": [],
   "source": [
    "# Simple Plugin Installation\n",
    "# ./bin/plugin --install rni-es --url file://path/rni-es-7.13.0.zip\n",
    "\n",
    "# Add your license file\n",
    "# cp /path/rlp-license.xml plugins/analysis-rbl-je/rbl-je-7.12.1/licenses/ "
   ]
  },
  {
   "cell_type": "markdown",
   "metadata": {},
   "source": [
    "----\n",
    "### 2) Create an empty index"
   ]
  },
  {
   "cell_type": "code",
   "execution_count": null,
   "metadata": {
    "collapsed": true
   },
   "outputs": [],
   "source": [
    "# Global Settings for Elasticsearch\n",
    "es_host = \"_enter_your_elastic_hostname_here_\" #\"localhost\"\n",
    "es_port = \"9200\"\n",
    "index_name = \"fuzzy_match_demo\"\n",
    "document_type = \"customers\"\n",
    "\n",
    "# Intall the python binding for elastic search\n",
    "# pip install elasticsearch\n",
    "\n",
    "# Use the elasticsearch python client\n",
    "from elasticsearch import Elasticsearch\n",
    "import json\n",
    "\n",
    "# Create connection to es server\n",
    "es = Elasticsearch(host=es_host, port=es_port)"
   ]
  },
  {
   "cell_type": "code",
   "execution_count": null,
   "metadata": {
    "collapsed": false
   },
   "outputs": [],
   "source": [
    "# Uncomment the following line to delete existing index with this name. Ignores 404 IndexMissingException.\n",
    "print \"delete\", index_name, es.indices.delete(index=index_name, ignore=[404])\n",
    "\n",
    "# Create the index. Ignores 400 IndexAlreadyExistsException\n",
    "print \"create\", index_name, es.indices.create(index=index_name, ignore=[400])"
   ]
  },
  {
   "cell_type": "markdown",
   "metadata": {},
   "source": [
    "----\n",
    "### 3) Create an document_type with an RNI filed type"
   ]
  },
  {
   "cell_type": "code",
   "execution_count": null,
   "metadata": {
    "collapsed": false
   },
   "outputs": [],
   "source": [
    "# Add a people field to news_articles\n",
    "es.indices.put_mapping(index=index_name, doc_type=document_type, body={\n",
    "  \"customers\" : {\n",
    "    \"properties\" : {\n",
    "        \"full_name\" : { \"type\" : \"rni_name\" }\n",
    "    }\n",
    "  }   \n",
    "})"
   ]
  },
  {
   "cell_type": "code",
   "execution_count": null,
   "metadata": {
    "collapsed": false
   },
   "outputs": [],
   "source": [
    "# Confirm Mapping Created\n",
    "mapping = es.indices.get_mapping(index=index_name)\n",
    "print json.dumps(mapping, indent=2)"
   ]
  },
  {
   "cell_type": "markdown",
   "metadata": {},
   "source": [
    "----\n",
    "### 4) Add a handfull of records "
   ]
  },
  {
   "cell_type": "code",
   "execution_count": null,
   "metadata": {
    "collapsed": false
   },
   "outputs": [],
   "source": [
    "# Add a few people records\n",
    "print \"add document\", index_name, es.index(index=index_name, doc_type=document_type, id=1, body={\n",
    "  \"full_name\" :{\n",
    "  \"data\" : \"Christopher Mack\",\n",
    "  \"language\" : \"eng\",\n",
    "  \"script\" : \"Latn\",\n",
    "  \"entityType\" : \"PERSON\"\n",
    "  },\n",
    "  \"hair_color\" : \"Blonde\",\n",
    "  \"nationality\" : \"US\"\n",
    "})\n",
    "\n",
    "print \"add document\", index_name, es.index(index=index_name, doc_type=document_type, id=2, body={\n",
    "  \"full_name\" :{\n",
    "  \"data\" : \"Kris Mac\",\n",
    "  \"language\" : \"eng\",\n",
    "  \"script\" : \"Latn\",\n",
    "  \"entityType\" : \"PERSON\"\n",
    "  },\n",
    "  \"hair_color\" : \"Black\",\n",
    "  \"nationality\" : \"DE\"\n",
    "})\n",
    "\n",
    "print \"add document\", index_name, es.index(index=index_name, doc_type=document_type, id=3, body={\n",
    "  \"full_name\" :{\n",
    "  \"data\" : \"Bill Swanson\",\n",
    "  \"language\" : \"eng\",\n",
    "  \"script\" : \"Latn\",\n",
    "  \"entityType\" : \"PERSON\"\n",
    "  },\n",
    "  \"hair_color\" : \"Blonde\",\n",
    "  \"nationality\" : \"US\"    \n",
    "})"
   ]
  },
  {
   "cell_type": "code",
   "execution_count": null,
   "metadata": {
    "collapsed": false
   },
   "outputs": [],
   "source": [
    "# refresh to make the documents available for search\n",
    "print \"refresh\", index_name, es.indices.refresh(index=index_name)\n",
    "\n",
    "# and now we can count the documents\n",
    "print(es.count(index=index_name)['count'], 'documents in index')"
   ]
  },
  {
   "cell_type": "markdown",
   "metadata": {
    "collapsed": false
   },
   "source": [
    "----\n",
    "### 5) Example Queries\n",
    " - High Recall (with lucene scores) \n",
    " - Resocore (with name simimaliry scores)\n",
    " - Combined with other fields"
   ]
  },
  {
   "cell_type": "code",
   "execution_count": null,
   "metadata": {
    "collapsed": false
   },
   "outputs": [],
   "source": [
    "rosette_result = es.search(index=index_name, doc_type=document_type, body={\n",
    "    \"query\" : {\n",
    "        \"match\" : {\n",
    "            \"full_name\" : \"Christopher Mac\"\n",
    "        }\n",
    "    }\n",
    "})\n",
    "print json.dumps(rosette_result, indent=2)"
   ]
  },
  {
   "cell_type": "code",
   "execution_count": null,
   "metadata": {
    "collapsed": false,
    "scrolled": true
   },
   "outputs": [],
   "source": [
    "rosette_result = es.search(index=index_name, doc_type=document_type, body={\n",
    "\"query\" : {\n",
    "    \"match\" : {\n",
    "        \"full_name\" : \"Christopher Mac\"\n",
    "        }\n",
    "    },\n",
    "    \"rescore\" : {\n",
    "        \"window_size\" : 200,\n",
    "        \"query\" : {\n",
    "        \"rescore_query\" : {\n",
    "            \"function_score\" : {\n",
    "                    \"name_score\" : {\n",
    "                        \"field\" : \"full_name\",\n",
    "                        \"query_name\" : \"Christopher Mac\"\n",
    "                    }\n",
    "                }\n",
    "            },\n",
    "            \"query_weight\" : 0.0,\n",
    "            \"rescore_query_weight\" : 1.0\n",
    "        }\n",
    "    }\n",
    "    })\n",
    "print json.dumps(rosette_result, indent=2)"
   ]
  },
  {
   "cell_type": "code",
   "execution_count": null,
   "metadata": {
    "collapsed": false,
    "scrolled": true
   },
   "outputs": [],
   "source": [
    "rosette_result = es.search(index=index_name, doc_type=document_type, body={\n",
    "\"query\" : {\n",
    "    \"match\" : {\"full_name\" : \"Christopher Mac\"},\n",
    "    \"match\" : {\"hair_color\" : \"Blonde\"}\n",
    "    },\n",
    "    \"rescore\" : {\n",
    "        \"window_size\" : 200,\n",
    "        \"query\" : {\n",
    "        \"rescore_query\" : {\n",
    "            \"function_score\" : {\n",
    "                    \"name_score\" : {\n",
    "                        \"field\" : \"full_name\",\n",
    "                        \"query_name\" : \"Christopher Mac\"\n",
    "                    }\n",
    "                }\n",
    "            },\n",
    "            \"query_weight\" : 0.25,\n",
    "            \"rescore_query_weight\" : 0.5\n",
    "        }\n",
    "    }\n",
    "    })\n",
    "print json.dumps(rosette_result, indent=2)"
   ]
  },
  {
   "cell_type": "markdown",
   "metadata": {
    "collapsed": false
   },
   "source": [
    "----\n",
    "### 5) Other Queries\n"
   ]
  },
  {
   "cell_type": "code",
   "execution_count": null,
   "metadata": {
    "collapsed": false
   },
   "outputs": [],
   "source": [
    "rosette_result = es.search(index=index_name, doc_type=document_type, body={\n",
    "  \"query\": {\n",
    "    \"match\" : {\n",
    "      \"people\" : \"{\\\"data\\\" : \\\"Christopher Mac\\\", \\\"language\\\" : \\\"eng\\\" , \\\"script\\\" : \\\"Latn\\\", \\\"entityType\\\" : \\\"PERSON\\\"}\"\n",
    "    }\n",
    "  }\n",
    "})\n",
    "print json.dumps(rosette_result, indent=2)\n"
   ]
  },
  {
   "cell_type": "code",
   "execution_count": null,
   "metadata": {
    "collapsed": true
   },
   "outputs": [],
   "source": []
  }
 ],
 "metadata": {
  "git": {
   "suppress_outputs": true
  },
  "kernelspec": {
   "display_name": "Python 2",
   "language": "python",
   "name": "python2"
  },
  "language_info": {
   "codemirror_mode": {
    "name": "ipython",
    "version": 2
   },
   "file_extension": ".py",
   "mimetype": "text/x-python",
   "name": "python",
   "nbconvert_exporter": "python",
   "pygments_lexer": "ipython2",
   "version": "2.7.8"
  }
 },
 "nbformat": 4,
 "nbformat_minor": 0
}
